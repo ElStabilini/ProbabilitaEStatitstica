{
 "cells": [
  {
   "cell_type": "markdown",
   "metadata": {},
   "source": [
    "# Corso di Probabilità e Statistica \n",
    "## Vettori, matrici, numeri random\n",
    "In questo capitolo introduciamo alcuni concetti elementari sulla generazione di vettori e matrici e numeri casuali. "
   ]
  },
  {
   "cell_type": "code",
   "execution_count": 1,
   "metadata": {},
   "outputs": [],
   "source": [
    "# importare packages\n",
    "import numpy as np #operazioni numeriche"
   ]
  },
  {
   "cell_type": "markdown",
   "metadata": {},
   "source": [
    "### Generare numeri random"
   ]
  },
  {
   "cell_type": "markdown",
   "metadata": {},
   "source": [
    "generare un numero random in [0,1]"
   ]
  },
  {
   "cell_type": "code",
   "execution_count": 2,
   "metadata": {},
   "outputs": [
    {
     "name": "stdout",
     "output_type": "stream",
     "text": [
      "0.26433444668261763\n"
     ]
    }
   ],
   "source": [
    "x_u=np.random.rand()\n",
    "x_u\n",
    "print(x_u)"
   ]
  },
  {
   "cell_type": "markdown",
   "metadata": {},
   "source": [
    "generare un numero random Gaussiano (media =0 varianza=1)"
   ]
  },
  {
   "cell_type": "code",
   "execution_count": 3,
   "metadata": {},
   "outputs": [
    {
     "name": "stdout",
     "output_type": "stream",
     "text": [
      "2.0913180255171806\n"
     ]
    }
   ],
   "source": [
    "x_g=np.random.randn() #random normal, ovviamente centrata in 0 e con varianza 1\n",
    "x_g\n",
    "print(x_g)"
   ]
  },
  {
   "cell_type": "markdown",
   "metadata": {},
   "source": [
    "generare un numero random Gaussiano (media =m varianza=s)"
   ]
  },
  {
   "cell_type": "code",
   "execution_count": 4,
   "metadata": {},
   "outputs": [
    {
     "name": "stdout",
     "output_type": "stream",
     "text": [
      "-0.031657840751535105\n"
     ]
    }
   ],
   "source": [
    "m=1\n",
    "s=2\n",
    "x_g=s*np.random.randn()+m #rinormalizzo la gaussiana di prima\n",
    "print(x_g)"
   ]
  },
  {
   "cell_type": "markdown",
   "metadata": {},
   "source": [
    "Generare numero random con distribuzione esponenziale"
   ]
  },
  {
   "cell_type": "code",
   "execution_count": 5,
   "metadata": {},
   "outputs": [
    {
     "name": "stdout",
     "output_type": "stream",
     "text": [
      "1.2790703402070338\n"
     ]
    }
   ],
   "source": [
    "x=np.random.rand() #numero random uniforme\n",
    "r0=2\n",
    "y_e=-np.log(1-x)/r0 #utilizzo l'inversa della cumulativa\n",
    "print(y_e)"
   ]
  },
  {
   "cell_type": "markdown",
   "metadata": {},
   "source": [
    "### Generare vettori"
   ]
  },
  {
   "cell_type": "markdown",
   "metadata": {},
   "source": [
    "generare i numeri tra a e b, spaziati di d"
   ]
  },
  {
   "cell_type": "code",
   "execution_count": 6,
   "metadata": {},
   "outputs": [],
   "source": [
    "a=1\n",
    "b=5\n",
    "d=0.5\n",
    "x = np.arange(a,b,d)\n",
    "# <vector_name> = np.arange(#min, #max, #distance)"
   ]
  },
  {
   "cell_type": "code",
   "execution_count": 7,
   "metadata": {},
   "outputs": [
    {
     "name": "stdout",
     "output_type": "stream",
     "text": [
      "[1.  1.5 2.  2.5 3.  3.5 4.  4.5]\n"
     ]
    }
   ],
   "source": [
    "print(x)"
   ]
  },
  {
   "cell_type": "markdown",
   "metadata": {},
   "source": [
    "generare N numeri equispaziati tra a e b (inclusi)"
   ]
  },
  {
   "cell_type": "code",
   "execution_count": 8,
   "metadata": {},
   "outputs": [],
   "source": [
    "a=0\n",
    "b=1\n",
    "N=11\n",
    "y = np.linspace(a,b,N) \n",
    "#linspace è uguale ad arange con la differenza che, anzichè fissare la distanza fisso il numero di punti q poi questi vengono automaticamente equispaziati"
   ]
  },
  {
   "cell_type": "code",
   "execution_count": 9,
   "metadata": {},
   "outputs": [
    {
     "name": "stdout",
     "output_type": "stream",
     "text": [
      "[0.  0.1 0.2 0.3 0.4 0.5 0.6 0.7 0.8 0.9 1. ]\n"
     ]
    }
   ],
   "source": [
    "print(y)"
   ]
  },
  {
   "cell_type": "code",
   "execution_count": 10,
   "metadata": {},
   "outputs": [
    {
     "name": "stdout",
     "output_type": "stream",
     "text": [
      "[0. 0. 0.]\n"
     ]
    }
   ],
   "source": [
    "#vettore di N componenti inizializzate 0\n",
    "N=3\n",
    "zero_vector = np.zeros(N)\n",
    "print(zero_vector)"
   ]
  },
  {
   "cell_type": "code",
   "execution_count": 11,
   "metadata": {},
   "outputs": [
    {
     "name": "stdout",
     "output_type": "stream",
     "text": [
      "[-0.93759451  0.80836902 -0.64052562]\n"
     ]
    }
   ],
   "source": [
    "#vettore di N componenti random Gaussiane\n",
    "N=3\n",
    "random_vector = np.random.randn(N) #genero tre elementi distribuiti secondo una gaussiana\n",
    "print(random_vector)"
   ]
  },
  {
   "cell_type": "code",
   "execution_count": 15,
   "metadata": {},
   "outputs": [
    {
     "data": {
      "text/plain": [
       "array([-0.75037803,  6.2334761 ,  0.4378975 ])"
      ]
     },
     "execution_count": 15,
     "metadata": {},
     "output_type": "execute_result"
    }
   ],
   "source": [
    "#vettore di N componenti distribuite normalmente però con una gaussiana diversa da N(0,1)\n",
    "I = len(random_vector)\n",
    "\n",
    "for i in range(I):\n",
    "    random_vector[i] = s*random_vector[i] + m\n",
    "    \n",
    "random_vector"
   ]
  },
  {
   "cell_type": "markdown",
   "metadata": {},
   "source": [
    "### Generare matrici "
   ]
  },
  {
   "cell_type": "code",
   "execution_count": 14,
   "metadata": {},
   "outputs": [
    {
     "data": {
      "text/plain": [
       "array([[0., 0., 0., 0.],\n",
       "       [0., 0., 0., 0.],\n",
       "       [0., 0., 0., 0.]])"
      ]
     },
     "execution_count": 14,
     "metadata": {},
     "output_type": "execute_result"
    }
   ],
   "source": [
    "#matrice NxM =0\n",
    "N=3\n",
    "M=4\n",
    "zero_matrix = np.zeros((N,M))\n",
    "zero_matrix\n",
    "\n",
    "#eventualmente a questo punto posso anche generare un tensore NxMxL ad esempio, solo non avrebbe molto senso stamparlo\n",
    "#formalmente, per il linguaggio questo è un vettore in cui ciascun elemento è un vettore di 3 elementi\n",
    "#solo che python fa schifo e scrive i vettori in orizzontale anzichè in verticale"
   ]
  },
  {
   "cell_type": "code",
   "execution_count": 15,
   "metadata": {},
   "outputs": [
    {
     "data": {
      "text/plain": [
       "array([[1., 1., 1., 1.],\n",
       "       [1., 1., 1., 1.],\n",
       "       [1., 1., 1., 1.]])"
      ]
     },
     "execution_count": 15,
     "metadata": {},
     "output_type": "execute_result"
    }
   ],
   "source": [
    "#matrice NxM =1\n",
    "N=3\n",
    "M=4\n",
    "one_matrix = np.ones((N,M))\n",
    "one_matrix"
   ]
  },
  {
   "cell_type": "code",
   "execution_count": 18,
   "metadata": {},
   "outputs": [
    {
     "data": {
      "text/plain": [
       "array([[ 0.57812036, -0.59919787,  0.10209246,  1.50041944],\n",
       "       [ 0.50774349,  0.06777477,  0.08079973,  0.38586451],\n",
       "       [ 2.21798615, -2.16260126, -0.90762564,  0.46198863]])"
      ]
     },
     "execution_count": 18,
     "metadata": {},
     "output_type": "execute_result"
    }
   ],
   "source": [
    "#matrice random NxM  (numeri casuali ma distribuiti secondo una gaussiana N(0,1))\n",
    "N=3\n",
    "M=4\n",
    "random_matrix=np.random.randn(N,M)\n",
    "random_matrix"
   ]
  },
  {
   "cell_type": "markdown",
   "metadata": {},
   "source": [
    "Selezionare elementi di vettori o matrici"
   ]
  },
  {
   "cell_type": "code",
   "execution_count": 21,
   "metadata": {},
   "outputs": [
    {
     "data": {
      "text/plain": [
       "-2.1626012648287145"
      ]
     },
     "execution_count": 21,
     "metadata": {},
     "output_type": "execute_result"
    }
   ],
   "source": [
    "random_matrix[2,1] \n",
    "#dato che gli indici partono da 0 sto guardando la 3a riga, 2a colonna"
   ]
  },
  {
   "cell_type": "code",
   "execution_count": 20,
   "metadata": {},
   "outputs": [
    {
     "data": {
      "text/plain": [
       "0.5781203638560124"
      ]
     },
     "execution_count": 20,
     "metadata": {},
     "output_type": "execute_result"
    }
   ],
   "source": [
    "random_matrix[0,0]"
   ]
  },
  {
   "cell_type": "markdown",
   "metadata": {},
   "source": [
    "Selezionare colonna"
   ]
  },
  {
   "cell_type": "code",
   "execution_count": 23,
   "metadata": {},
   "outputs": [
    {
     "data": {
      "text/plain": [
       "array([-0.59919787,  0.06777477, -2.16260126])"
      ]
     },
     "execution_count": 23,
     "metadata": {},
     "output_type": "execute_result"
    }
   ],
   "source": [
    "random_matrix[:,1]\n",
    "#in pratica vincolo la colonna, in questo caso la seconda, e faccio variare la riga"
   ]
  },
  {
   "cell_type": "markdown",
   "metadata": {},
   "source": [
    "Selezionare riga"
   ]
  },
  {
   "cell_type": "code",
   "execution_count": 24,
   "metadata": {},
   "outputs": [
    {
     "data": {
      "text/plain": [
       "array([ 2.21798615, -2.16260126, -0.90762564,  0.46198863])"
      ]
     },
     "execution_count": 24,
     "metadata": {},
     "output_type": "execute_result"
    }
   ],
   "source": [
    "random_matrix[2,:]\n",
    "#in pratica vincolo la riga, in questo caso la terza, lasciando il vincolo della colonna"
   ]
  },
  {
   "cell_type": "markdown",
   "metadata": {},
   "source": [
    "#### Esercizio\n",
    "\n",
    "1) generare una matrice di dimensione 5x5 i cui elementi siano numeri random distribuiti tra [-1,1]\n",
    "\n",
    "2) Selezionare la terza riga "
   ]
  },
  {
   "cell_type": "code",
   "execution_count": 19,
   "metadata": {},
   "outputs": [
    {
     "data": {
      "text/plain": [
       "array([[ 0.34830064, -0.62042407, -0.99191791,  0.2361518 ,  0.13355793],\n",
       "       [-0.6001005 , -0.17829222,  0.179903  ,  0.48122383, -0.98490561],\n",
       "       [ 0.37599413, -0.42606939, -0.00825098, -0.24325944, -0.0394724 ],\n",
       "       [-0.00939471,  0.79538706, -0.69156364,  0.02217823,  0.18356791],\n",
       "       [ 0.54515095, -0.98387879, -0.48954914,  0.64680036,  0.52611173]])"
      ]
     },
     "execution_count": 19,
     "metadata": {},
     "output_type": "execute_result"
    }
   ],
   "source": [
    "#genero matrice 5x5\n",
    "N = 5\n",
    "M = 5\n",
    "es_unif = np.random.rand(N,M)\n",
    "\n",
    "massimo = +1\n",
    "minimo = -1\n",
    "\n",
    "for i in range(N):\n",
    "    for j in range(M):\n",
    "        es_unif[i,j] = es_unif[i,j]*(massimo-minimo) + minimo\n",
    "\n",
    "es_unif"
   ]
  },
  {
   "cell_type": "code",
   "execution_count": 34,
   "metadata": {},
   "outputs": [
    {
     "data": {
      "text/plain": [
       "array([0.60185117, 0.14410988, 0.03703065, 0.13926171, 0.35455907])"
      ]
     },
     "execution_count": 34,
     "metadata": {},
     "output_type": "execute_result"
    }
   ],
   "source": [
    "#seleziono la terza riga\n",
    "#vincolo la riga con indice 2 e faccio variare la colonna\n",
    "es_unif[2,:]"
   ]
  },
  {
   "cell_type": "markdown",
   "metadata": {},
   "source": [
    "## Analisi statistica"
   ]
  },
  {
   "cell_type": "markdown",
   "metadata": {},
   "source": [
    "### distribuzione uniforme"
   ]
  },
  {
   "cell_type": "code",
   "execution_count": 25,
   "metadata": {},
   "outputs": [
    {
     "name": "stdout",
     "output_type": "stream",
     "text": [
      "[0.47212144 0.96830474 0.09371951 0.37337349 0.84395154 0.89830158\n",
      " 0.10889821 0.60685277 0.29191811 0.77731078]\n"
     ]
    }
   ],
   "source": [
    "x10=np.random.rand(10) #10 numeri estratti su [0,1]\n",
    "x100=np.random.rand(100) #100 numeri estratti su [0,1]\n",
    "x1000=np.random.rand(1000) #1000 numeri estratti su [0,1]\n",
    "\n",
    "print(x10)"
   ]
  },
  {
   "cell_type": "code",
   "execution_count": 26,
   "metadata": {},
   "outputs": [
    {
     "name": "stdout",
     "output_type": "stream",
     "text": [
      "0.5434752181051927\n",
      "0.4923957460416669\n",
      "0.5036824728090976\n"
     ]
    }
   ],
   "source": [
    "# media\n",
    "mu10=np.mean(x10)\n",
    "mu100=np.mean(x100)\n",
    "mu1000=np.mean(x1000)\n",
    "\n",
    "print(mu10)\n",
    "print(mu100)\n",
    "print(mu1000)"
   ]
  },
  {
   "cell_type": "markdown",
   "metadata": {},
   "source": [
    "Dai risultati stampati sopra si osserva che all'aumentare di numeri estratti il valor medio della distribuzione si avvicina al valor medio teorico"
   ]
  },
  {
   "cell_type": "code",
   "execution_count": 27,
   "metadata": {},
   "outputs": [],
   "source": [
    "# mediana\n",
    "m10=np.median(x10)\n",
    "m100=np.median(x100)\n",
    "m1000=np.median(x1000)"
   ]
  },
  {
   "cell_type": "code",
   "execution_count": 28,
   "metadata": {},
   "outputs": [
    {
     "data": {
      "text/plain": [
       "(0.5394871071270466, 0.49931035651493233, 0.4961928044830069)"
      ]
     },
     "execution_count": 28,
     "metadata": {},
     "output_type": "execute_result"
    }
   ],
   "source": [
    "m10,m100,m1000"
   ]
  },
  {
   "cell_type": "code",
   "execution_count": 29,
   "metadata": {},
   "outputs": [],
   "source": [
    "# deviazione standard\n",
    "sigma10=np.std(x10)\n",
    "sigma100=np.std(x100)\n",
    "sigma1000=np.std(x1000)"
   ]
  },
  {
   "cell_type": "code",
   "execution_count": 30,
   "metadata": {},
   "outputs": [
    {
     "data": {
      "text/plain": [
       "(0.30721458083735187, 0.28653700287865924, 0.28955906253010494)"
      ]
     },
     "execution_count": 30,
     "metadata": {},
     "output_type": "execute_result"
    }
   ],
   "source": [
    "sigma10,sigma100,sigma1000"
   ]
  },
  {
   "cell_type": "markdown",
   "metadata": {},
   "source": [
    "Dai risultati stampati sopra si osserva che all'aumentare del numero di estrazioni la deviazione standard diminuisce"
   ]
  },
  {
   "cell_type": "code",
   "execution_count": 31,
   "metadata": {},
   "outputs": [],
   "source": [
    "#varianza\n",
    "sigma_2_10=np.var(x10)\n",
    "sigma_2_100=np.var(x100)\n",
    "sigma_2_1000=np.var(x1000)"
   ]
  },
  {
   "cell_type": "code",
   "execution_count": 32,
   "metadata": {},
   "outputs": [
    {
     "data": {
      "text/plain": [
       "(0.09438079867906982, 0.08210345401868478, 0.08384445069331323)"
      ]
     },
     "execution_count": 32,
     "metadata": {},
     "output_type": "execute_result"
    }
   ],
   "source": [
    "sigma_2_10,sigma_2_100,sigma_2_1000"
   ]
  },
  {
   "cell_type": "markdown",
   "metadata": {},
   "source": [
    "Anche in questo caso si osserva che all'aumentare del numero di estrazioni la varianza (sigma2) diminuisce"
   ]
  },
  {
   "cell_type": "code",
   "execution_count": 33,
   "metadata": {},
   "outputs": [],
   "source": [
    "# minimo e massimo\n",
    "\n",
    "#funzione che restituisce il massimo in un set di numeri estratti\n",
    "min10=np.amin(x10)\n",
    "min100=np.amin(x100)\n",
    "min1000=np.amin(x1000)\n",
    "\n",
    "#funzione che restituisce il massimo in un set di numeri estratti\n",
    "max10=np.amax(x10)\n",
    "max100=np.amax(x100)\n",
    "max1000=np.amax(x1000)"
   ]
  },
  {
   "cell_type": "code",
   "execution_count": 34,
   "metadata": {},
   "outputs": [
    {
     "data": {
      "text/plain": [
       "(0.0937195143988897,\n",
       " 0.004811563650017225,\n",
       " 0.00148691806004142,\n",
       " 0.9683047427881276,\n",
       " 0.9996767401146279,\n",
       " 0.9993126291831022)"
      ]
     },
     "execution_count": 34,
     "metadata": {},
     "output_type": "execute_result"
    }
   ],
   "source": [
    "min10,min100,min1000,max10,max100,max1000"
   ]
  },
  {
   "cell_type": "markdown",
   "metadata": {},
   "source": [
    "### Distribuzione esponenziale"
   ]
  },
  {
   "cell_type": "code",
   "execution_count": 35,
   "metadata": {},
   "outputs": [],
   "source": [
    "N=1000\n",
    "x=np.random.rand(N) #numero random uniforme\n",
    "r0=2\n",
    "y=-np.log(1-x)/r0"
   ]
  },
  {
   "cell_type": "code",
   "execution_count": 36,
   "metadata": {},
   "outputs": [
    {
     "data": {
      "text/plain": [
       "(0.5067566191337555, 0.2844554278769539, 0.533343630201912)"
      ]
     },
     "execution_count": 36,
     "metadata": {},
     "output_type": "execute_result"
    }
   ],
   "source": [
    "m=np.mean(y)\n",
    "var=np.var(y)\n",
    "std=np.std(y)\n",
    "m,var,std"
   ]
  },
  {
   "cell_type": "markdown",
   "metadata": {},
   "source": [
    "per una distribuzione esponenziale la media è uguale alla deviazione standard"
   ]
  }
 ],
 "metadata": {
  "kernelspec": {
   "display_name": "Python 3 (ipykernel)",
   "language": "python",
   "name": "python3"
  },
  "language_info": {
   "codemirror_mode": {
    "name": "ipython",
    "version": 3
   },
   "file_extension": ".py",
   "mimetype": "text/x-python",
   "name": "python",
   "nbconvert_exporter": "python",
   "pygments_lexer": "ipython3",
   "version": "3.10.6"
  }
 },
 "nbformat": 4,
 "nbformat_minor": 4
}
