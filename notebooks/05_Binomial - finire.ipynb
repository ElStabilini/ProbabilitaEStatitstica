{
 "cells": [
  {
   "cell_type": "markdown",
   "metadata": {},
   "source": [
    "# Corso di Probabilità e Statistica - La distribuzione binomiale\n",
    "\n",
    "In questo capitolo introduciamo la distribuzione binomiale\n"
   ]
  },
  {
   "cell_type": "code",
   "execution_count": 41,
   "metadata": {},
   "outputs": [],
   "source": [
    "import scipy.stats as stats #modulo di statistica\n",
    "import numpy as np\n",
    "import matplotlib.pyplot as plt\n",
    "import seaborn as sns # Grafica avanzata"
   ]
  },
  {
   "cell_type": "markdown",
   "metadata": {},
   "source": [
    "**Generiamo un processo binomiale empiricamente**"
   ]
  },
  {
   "cell_type": "code",
   "execution_count": 29,
   "metadata": {},
   "outputs": [],
   "source": [
    "#parametri\n",
    "n=10  #numero di tentativi\n",
    "p=0.5 #probabilità di successo\n",
    "NR=1000 #numero di realizzazioni del processo, ovvero quanti tentativi voglio fare di questo processo"
   ]
  },
  {
   "cell_type": "code",
   "execution_count": 30,
   "metadata": {},
   "outputs": [],
   "source": [
    "bd = np.zeros(n+1) #inizializzazione, creo un vettore di n+1 zeri"
   ]
  },
  {
   "cell_type": "markdown",
   "metadata": {},
   "source": [
    "Creo il vettore da utilizzare per plottare l'istogramma con il numero di successi che ho ottenuto in ciascuna ripetizione. I data-point totali (la somma delle frequenze di tutti i bins dovrà essere pari al numero di realizzazioni del processo)."
   ]
  },
  {
   "cell_type": "code",
   "execution_count": 31,
   "metadata": {},
   "outputs": [],
   "source": [
    "for i in range(NR): #loop sulle realizzazioni\n",
    "    k=0 #k numero di successi\n",
    "    for j in range(n): #loop su n\n",
    "        x=np.random.rand() \n",
    "        if(x<p): #successo con probabilità p \n",
    "            k=k+1 \n",
    "    bd[k]=bd[k]+1 "
   ]
  },
  {
   "cell_type": "markdown",
   "metadata": {},
   "source": [
    "Ripeto 1000 volte la seguente procedura: (avrò un dataset di 1000 repliche)\n",
    "* setto a 0 il numero di successi\n",
    "* ripeto l'esperimento - eg. lancio della moneta - 10 volte:\n",
    "    * estraggo un numero casuale\n",
    "    * se il numero è maggiore di 0.5 è un successo altrimenti no\n",
    "* aumento il numero di una unità il numero di dati nel bin"
   ]
  },
  {
   "cell_type": "code",
   "execution_count": 32,
   "metadata": {},
   "outputs": [
    {
     "name": "stdout",
     "output_type": "stream",
     "text": [
      "[0.002 0.008 0.051 0.116 0.226 0.22  0.2   0.121 0.048 0.007 0.001]\n"
     ]
    }
   ],
   "source": [
    "bd=bd/NR #normalizzazione\n",
    "print(bd)"
   ]
  },
  {
   "cell_type": "markdown",
   "metadata": {},
   "source": [
    "Normalizzo la distribuzione dato che sommando il numero di unità contenute in tutti i bins è pari al numero di ripetizioni dell'esperimento"
   ]
  },
  {
   "cell_type": "markdown",
   "metadata": {},
   "source": [
    "**Confrontiamo il risultato empirico con la distribuzione binomiale teorica**"
   ]
  },
  {
   "cell_type": "code",
   "execution_count": 33,
   "metadata": {},
   "outputs": [],
   "source": [
    "bd1 = stats.binom(n,p) #distribuzione binomiale"
   ]
  },
  {
   "cell_type": "markdown",
   "metadata": {},
   "source": [
    "Definisco una distribuzione normale teorica utilizzando la funzione di numpy"
   ]
  },
  {
   "cell_type": "code",
   "execution_count": 34,
   "metadata": {},
   "outputs": [
    {
     "name": "stdout",
     "output_type": "stream",
     "text": [
      "(0.116, 0.1171875)\n"
     ]
    }
   ],
   "source": [
    "# confrontiamo i valori di B_p^n(k)\n",
    "k=3\n",
    "print((bd[k],bd1.pmf(k))) #confronto i valori per k fissato"
   ]
  },
  {
   "cell_type": "code",
   "execution_count": 35,
   "metadata": {},
   "outputs": [
    {
     "name": "stdout",
     "output_type": "stream",
     "text": [
      "(4.966, 5.0)\n"
     ]
    }
   ],
   "source": [
    "# confrontiamo le media\n",
    "mu1 = bd1.mean()\n",
    "mu = np.average(np.arange(n+1), weights=bd) #media pesata sulla distribuzione empirica \n",
    "print((mu,mu1))"
   ]
  },
  {
   "cell_type": "markdown",
   "metadata": {},
   "source": [
    "Per la distribuzione teorica mi basta utilizzare il metodo media della funzione binomiale di numpy; per la distribuzione empirica invece devo fare una media pesata (peso ciascun valore per la frequenza empirica - ovvero per il valore del bin normalizzato). Dai valori si osserva che, considerato il piccolo numero di ripetizioni dell'esperienza fatta, si ha una buona compatibilità."
   ]
  },
  {
   "cell_type": "code",
   "execution_count": 36,
   "metadata": {},
   "outputs": [
    {
     "name": "stdout",
     "output_type": "stream",
     "text": [
      "(2.578844, 2.5)\n"
     ]
    }
   ],
   "source": [
    "# confrontiamo la varianza\n",
    "sigma2_1=bd1.var()\n",
    "sigma2=np.average(np.arange(n+1)**2, weights=bd)-mu**2\n",
    "print((sigma2,sigma2_1))"
   ]
  },
  {
   "cell_type": "markdown",
   "metadata": {},
   "source": [
    "Per la distribuzione teorica mi basta utilizzare il metodo di calcolo della varianza già implementato nella classe, per la distribuzione empirica devo fare il calcolo, tenendo conto dei pesi. \n",
    "\n",
    "Dai valori si osserva anche in questo caso una buona compatibilità. \n",
    "**Nota**: varianza è il secondo moemnto centrale della distribuzione."
   ]
  },
  {
   "cell_type": "code",
   "execution_count": 37,
   "metadata": {},
   "outputs": [
    {
     "name": "stdout",
     "output_type": "stream",
     "text": [
      "(162.5, 160.894)\n"
     ]
    }
   ],
   "source": [
    "# calcoliamo i momenti, nello specifico calcolo il terzo momento centrale della distribuzione\n",
    "r=3\n",
    "mom1=bd1.moment(n=r)\n",
    "mom=np.average(np.arange(n+1)**r,weights=bd)\n",
    "print((mom1,mom))"
   ]
  },
  {
   "cell_type": "markdown",
   "metadata": {},
   "source": [
    "**Grafici**"
   ]
  },
  {
   "cell_type": "code",
   "execution_count": 38,
   "metadata": {},
   "outputs": [],
   "source": [
    "# usiamo caratteri leggibili!\n",
    "plt.rcParams.update({'font.size': 14})"
   ]
  },
  {
   "cell_type": "code",
   "execution_count": 54,
   "metadata": {},
   "outputs": [
    {
     "data": {
      "text/plain": [
       "<matplotlib.legend.Legend at 0x7f384cb1f370>"
      ]
     },
     "execution_count": 54,
     "metadata": {},
     "output_type": "execute_result"
    },
    {
     "data": {
      "image/png": "[encoded data removed]",
      "text/plain": [
       "<Figure size 432x288 with 1 Axes>"
      ]
     },
     "metadata": {},
     "output_type": "display_data"
    }
   ],
   "source": [
    "k = np.arange(n+1)\n",
    "plt.plot(k, bd1.pmf(k), label=\"theory\", color=\"black\") #linee\n",
    "plt.bar(k,bd, color='red', label=\"exp\")\n",
    "plt.xlabel(r'$k$') \n",
    "plt.ylabel(r'$B_p^n(k)$') #Se vogliamo usare il LaTex nel grafico r'$math$'\n",
    "plt.legend()"
   ]
  },
  {
   "cell_type": "code",
   "execution_count": 40,
   "metadata": {},
   "outputs": [
    {
     "data": {
      "text/plain": [
       "<matplotlib.legend.Legend at 0x7f3852ba0d30>"
      ]
     },
     "execution_count": 40,
     "metadata": {},
     "output_type": "execute_result"
    },
    {
     "data": {
      "image/png": "[encoded data removed]",
      "text/plain": [
       "<Figure size 432x288 with 1 Axes>"
      ]
     },
     "metadata": {
      "needs_background": "light"
     },
     "output_type": "display_data"
    }
   ],
   "source": [
    "k = np.arange(n+1)\n",
    "plt.step(k+.5, bd1.pmf(k), label=\"theory\", color='black') #step\n",
    "plt.scatter(k,bd, color='red', label=\"exp\")\n",
    "plt.xlabel(r'$k$') \n",
    "plt.ylabel(r'$B_p^n(k)$') #Se vogliamo usare il LaTex nel grafico r'$math$'\n",
    "plt.legend()"
   ]
  },
  {
   "cell_type": "code",
   "execution_count": 27,
   "metadata": {},
   "outputs": [
    {
     "data": {
      "text/plain": [
       "<matplotlib.legend.Legend at 0x7f3852cb36d0>"
      ]
     },
     "execution_count": 27,
     "metadata": {},
     "output_type": "execute_result"
    },
    {
     "data": {
      "image/png": "[encoded data removed]",
      "text/plain": [
       "<Figure size 432x288 with 1 Axes>"
      ]
     },
     "metadata": {
      "needs_background": "light"
     },
     "output_type": "display_data"
    }
   ],
   "source": [
    "#distribuzione cumulata\n",
    "plt.step(k+.5, bd1.cdf(k), label=\"cdf\", color='black') #step\n",
    "plt.xlabel(r'$k$') \n",
    "plt.ylabel('CDF') \n",
    "plt.legend()"
   ]
  },
  {
   "cell_type": "markdown",
   "metadata": {},
   "source": [
    "**Esercizio: la distribuzione multinomiale**"
   ]
  },
  {
   "cell_type": "markdown",
   "metadata": {},
   "source": [
    "Ripetere lo stesso esempio per il caso della distribuzione multinomiale. \n",
    "- Utilizzare la funzione scipy.stats.multinomial(n,p) dove p questa volta è un vettore di k componenti che indica le probabilità dei vari casi\n",
    "- Considerare per semplicità il caso k=3 per cui p=[p1,p2,1-p1-p2]\n",
    "- Generare la distribuzione empririca  \n",
    "- Confrontare la distribuzione empirica con quella teorica\n",
    "\n",
    "Per maggiori informazioni sulla funzione:\n",
    "https://docs.scipy.org/doc/scipy/reference/generated/scipy.stats.multinomial.html\n",
    "\n",
    "**Nota**: Esempio di sintassi \"if\" in python:\n",
    "\n",
    "if x < 0:\n",
    "\n",
    "    a=0\n",
    "    \n",
    "elif x == 0:\n",
    "\n",
    "    a=1\n",
    "    \n",
    "else:\n",
    "\n",
    "    a=2"
   ]
  },
  {
   "cell_type": "code",
   "execution_count": null,
   "metadata": {},
   "outputs": [],
   "source": []
  }
 ],
 "metadata": {
  "kernelspec": {
   "display_name": "Python 3 (ipykernel)",
   "language": "python",
   "name": "python3"
  },
  "language_info": {
   "codemirror_mode": {
    "name": "ipython",
    "version": 3
   },
   "file_extension": ".py",
   "mimetype": "text/x-python",
   "name": "python",
   "nbconvert_exporter": "python",
   "pygments_lexer": "ipython3",
   "version": "3.10.6"
  }
 },
 "nbformat": 4,
 "nbformat_minor": 4
}
