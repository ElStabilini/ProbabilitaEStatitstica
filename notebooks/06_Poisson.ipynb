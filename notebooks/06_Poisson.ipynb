{
 "cells": [
  {
   "cell_type": "markdown",
   "metadata": {},
   "source": [
    "# Corso di Probabilità e Statistica - Distribuzione di Poisson \n",
    "\n",
    "In questo capitolo introduciamo la distribuzione di Poisson \n",
    "Osservazione: questo notebook è impostato come la spiegazione di Andreazza sulla distribuzione di Poisson per il decadimento delle particelle."
   ]
  },
  {
   "cell_type": "code",
   "execution_count": 1,
   "metadata": {},
   "outputs": [],
   "source": [
    "import numpy as np\n",
    "import matplotlib.pyplot as plt\n",
    "import scipy.stats as stats\n",
    "import seaborn as sns # Grafica avanzata\n",
    "import warnings\n",
    "warnings.filterwarnings('ignore')\n",
    "params = {'legend.fontsize': 'x-large', 'figure.figsize': (10, 6), 'axes.labelsize': 'x-large', 'axes.titlesize':'xx-large', 'xtick.labelsize':'x-large', 'ytick.labelsize':'x-large'}\n",
    "plt.rcParams.update(params)"
   ]
  },
  {
   "cell_type": "markdown",
   "metadata": {},
   "source": [
    "**Processo di Poisson**"
   ]
  },
  {
   "cell_type": "code",
   "execution_count": 2,
   "metadata": {},
   "outputs": [],
   "source": [
    "lamda = 20.  # numero medio di eventi per unità di tempo"
   ]
  },
  {
   "cell_type": "markdown",
   "metadata": {},
   "source": [
    "**NB:** non si può chiamare una variabile lambda perchè altrimenti viene interpretata come una lambda function"
   ]
  },
  {
   "cell_type": "code",
   "execution_count": 3,
   "metadata": {},
   "outputs": [],
   "source": [
    "dt = .001  # passo temporale\n",
    "n = int(1./dt)  # numero di passi (utilizzo un \"segmento temporale di una unità\")"
   ]
  },
  {
   "cell_type": "code",
   "execution_count": 4,
   "metadata": {},
   "outputs": [],
   "source": [
    "x = np.zeros(n) #inizializzazione =0 -> vettore di n zeri\n",
    "x[np.random.rand(n) <= lamda * dt] = 1 #mettiamo 1 con probabilità: lamba*dt\n",
    "#print(x)"
   ]
  },
  {
   "cell_type": "markdown",
   "metadata": {},
   "source": [
    "Il pezzettino di codice che segue fa esattamente la stessa cosa solo che volevo essere sicura di quello che stavo facendo."
   ]
  },
  {
   "cell_type": "code",
   "execution_count": 5,
   "metadata": {},
   "outputs": [],
   "source": [
    "for i in range(n):\n",
    "    if(np.random.rand() <= lamda*dt):\n",
    "        x[i] = 1\n",
    "\n",
    "#print(x)"
   ]
  },
  {
   "cell_type": "markdown",
   "metadata": {},
   "source": [
    "Faccio esattamente quello che ho fatto prima ma scritto in maniera diversa: a ciascuno degli n istanti attribuisco un valore di evento (1) o non evento (0).\n",
    "\n",
    "Ovviamente la probababilità che in ciascuno degli n intervalli di tempo dt avvenga effettivamente un evento (cioè che a quell'intervallo fondamentale di tempo venga attribuito il valore 1, è pari a $\\lambda dt$ ovvero esattamente quella ipotizzata all'inizio."
   ]
  },
  {
   "cell_type": "code",
   "execution_count": 6,
   "metadata": {},
   "outputs": [
    {
     "name": "stdout",
     "output_type": "stream",
     "text": [
      "36\n"
     ]
    }
   ],
   "source": [
    "k=int(np.sum(x)) #numero di eventi nell'intervallo di tempo \"totale\"\n",
    "#il metodo sum di numpy mi consente di sommare tutti gli eleemnti di un vettore\n",
    "print(k)"
   ]
  },
  {
   "cell_type": "markdown",
   "metadata": {},
   "source": [
    "**Statistica del processo di Poisson**"
   ]
  },
  {
   "cell_type": "markdown",
   "metadata": {},
   "source": [
    "In pratica in questa fase costruisco la dinamica del processo di Poisson."
   ]
  },
  {
   "cell_type": "code",
   "execution_count": 7,
   "metadata": {},
   "outputs": [],
   "source": [
    "lamda=20 # numero medio di eventi per unità di tempo\n",
    "dt = .001  # passo temporale\n",
    "n = int(1. / dt)  # numero di passi \n",
    "NR=1000 #numero di realizzazioni del processo"
   ]
  },
  {
   "cell_type": "markdown",
   "metadata": {},
   "source": [
    "Definisco tutti i parametri del processo di Poisson che voglio realizzare, in particolare il valore medio, la larghezza dell'intervallo di tempo fondamentale, il numero n di intervallini in cui è diviso l'inyervallo originario e il numero di repliche dell'esperimento."
   ]
  },
  {
   "cell_type": "code",
   "execution_count": 8,
   "metadata": {},
   "outputs": [],
   "source": [
    "Pd=np.zeros(n+1) #inizializzazione della distribuzione"
   ]
  },
  {
   "cell_type": "markdown",
   "metadata": {},
   "source": [
    "Creo il vettore Pd della distribuzione di Poisson, vettore di n+1 zeri"
   ]
  },
  {
   "cell_type": "code",
   "execution_count": 9,
   "metadata": {},
   "outputs": [],
   "source": [
    "for i in range(NR): #loop sulle realizzazioni\n",
    "    x = np.zeros(n) #inizializzazione a 0 del parametro EVENTO\n",
    "    x[np.random.rand(n) <= lamda * dt] = 1 #mettiamo 1 con probabilità: lamba*dt\n",
    "    k=int(np.sum(x)) #numero di eventi nell'intervallo di tempo\n",
    "    Pd[k]=Pd[k]+1 #aggiorniamo la distribuzione\n",
    "\n",
    "Pd=Pd/NR #normalizzazione"
   ]
  },
  {
   "cell_type": "markdown",
   "metadata": {},
   "source": [
    "Ripeto gli step precedentemente studiati singolarmente"
   ]
  },
  {
   "cell_type": "code",
   "execution_count": 10,
   "metadata": {},
   "outputs": [
    {
     "name": "stdout",
     "output_type": "stream",
     "text": [
      "media empirica =  20.028\n",
      "media teorica = 20\n",
      "varianza empirica = 19.963216000000045\n",
      "varianza teorica =  20\n"
     ]
    }
   ],
   "source": [
    "# calcoliamo media e varianza\n",
    "mu=np.average(np.arange(n+1),weights=Pd)\n",
    "print(\"media empirica = \", mu)\n",
    "print(\"media teorica =\", lamda)\n",
    "\n",
    "sigma2=np.average(np.arange(n+1)**2,weights=Pd)-mu**2\n",
    "print(\"varianza empirica =\", sigma2)\n",
    "print(\"varianza teorica = \", lamda)"
   ]
  },
  {
   "cell_type": "markdown",
   "metadata": {},
   "source": [
    "Si può notare la vicinanza dei valori empirici a quelli teorici, la piccola discrepanza è sicuramente imputabile al fatto che il numero di repliche non sia così alto."
   ]
  },
  {
   "cell_type": "markdown",
   "metadata": {},
   "source": [
    "**Grafici**"
   ]
  },
  {
   "cell_type": "code",
   "execution_count": 12,
   "metadata": {},
   "outputs": [],
   "source": [
    "# usiamo caratteri leggibili!\n",
    "plt.rcParams.update({'font.size': 14})\n",
    "sns.set_theme()"
   ]
  },
  {
   "cell_type": "code",
   "execution_count": 13,
   "metadata": {},
   "outputs": [],
   "source": [
    "Pd1=stats.poisson(lamda) #distribuzione di Poisson"
   ]
  },
  {
   "cell_type": "code",
   "execution_count": 14,
   "metadata": {},
   "outputs": [
    {
     "name": "stdout",
     "output_type": "stream",
     "text": [
      "[0. 0. 0. ... 0. 0. 0.]\n",
      "<scipy.stats._distn_infrastructure.rv_frozen object at 0x7f8a98352ec0>\n"
     ]
    },
    {
     "data": {
      "image/png": "[encoded data removed]",
      "text/plain": [
       "<Figure size 720x432 with 1 Axes>"
      ]
     },
     "metadata": {},
     "output_type": "display_data"
    },
    {
     "data": {
      "text/plain": [
       "<Figure size 576x360 with 0 Axes>"
      ]
     },
     "metadata": {},
     "output_type": "display_data"
    }
   ],
   "source": [
    "k = np.arange(n+1)\n",
    "\n",
    "plt.plot(k, Pd1.pmf(k), label=\"theory\", color=\"indigo\") #linea\n",
    "plt.bar(k, Pd, color='cornflowerblue', label=\"exp\") #pseudo istogramma\n",
    "\n",
    "plt.xlim(0,50)\n",
    "plt.xlabel(r'$k$') \n",
    "plt.ylabel(r'$P_\\lambda(k)$') #Se vogliamo usare il LaTex nel grafico r'$math$'\n",
    "plt.legend()\n",
    "plt.title('Confronto sperimentale - teorica')\n",
    "plt.figure(figsize=(8,5))\n",
    "plt.show()"
   ]
  }
 ],
 "metadata": {
  "kernelspec": {
   "display_name": "Python 3 (ipykernel)",
   "language": "python",
   "name": "python3"
  },
  "language_info": {
   "codemirror_mode": {
    "name": "ipython",
    "version": 3
   },
   "file_extension": ".py",
   "mimetype": "text/x-python",
   "name": "python",
   "nbconvert_exporter": "python",
   "pygments_lexer": "ipython3",
   "version": "3.10.6"
  }
 },
 "nbformat": 4,
 "nbformat_minor": 4
}
