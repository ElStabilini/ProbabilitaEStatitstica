{
 "cells": [
  {
   "cell_type": "markdown",
   "metadata": {},
   "source": [
    "# Corso di Probabilità e Statistica- il metodo di massima verosimiglianza - parte 2\n",
    "\n",
    "In questo capitolo analizzeremo i dati tramite il metodo \n",
    "di massima verosimiglianza.\n",
    "\n",
    "Consideriamo una distribuzione teorica $p(x|\\lambda)$ dipendendente da uno o più parameteri $\\lambda$ e un\n",
    "set di dati sperimentali $(x_1, ... x_N)$. Il metodo\n",
    "consente di stimare il miglior parametro $\\lambda$ che\n",
    "descrive i dati, massimizzando la funzione\n",
    "\n",
    "$$ L = \\sum_i \\log p(x_i|\\lambda) $$"
   ]
  },
  {
   "cell_type": "markdown",
   "metadata": {},
   "source": [
    "### Esempio: distribuzione delle colonie di cellule tumorali"
   ]
  },
  {
   "cell_type": "markdown",
   "metadata": {},
   "source": [
    "I dati in questione sono colonie di cellule tumorali. In questo esperiento un numero fisso di cellule tumorali sono state messe in un piatto di coltura. Dopo 8 o 10 giorni sono state osservate le cellule. Ogni cellula si è duplicata varie volte dando luogo ad un certo numero di colonie ognuna composta da S cellule. Vogliamo analizzare la distribuzione di S e confrontarlo con un semplice modello teorico (Yule process). Il modello teorico prevede che la distribuzione al tempo $t$ sia data da  \n",
    "\n",
    "$$P(S|t, \\gamma)=e^{-\\gamma t} (1-e^{-\\gamma t})^{S-1}$$\n",
    "\n",
    "dove $\\gamma$ è il rate di divisione delle cellule.\n",
    "Per maggiori dettagli vedi l'articolo:\n",
    "M. M. Baraldi et al J. Stat. Mech. (2013) P02032\n",
    "\n",
    "https://iopscience.iop.org/article/10.1088/1742-5468/2013/02/P02032/meta?casa_token=qCKRzfJFMGgAAAAA:iolos6z5yRyArZy2TPYZIUcj3HZ17Ul2Eh4N77zOIKUKx10FUZXP_8m7kaHzBKyRWTceCE1jOMyX\n"
   ]
  },
  {
   "cell_type": "code",
   "execution_count": 1,
   "metadata": {},
   "outputs": [],
   "source": [
    "%matplotlib inline\n",
    "import pandas as pd\n",
    "import numpy as np\n",
    "import scipy.stats \n",
    "import scipy\n",
    "import seaborn as sns\n",
    "import matplotlib.pylab as plt"
   ]
  },
  {
   "cell_type": "markdown",
   "metadata": {},
   "source": [
    "Da qui in avanti inizio a dichiarare le variabili, per prima cosa costruisco un vettore in cui l'indice indica il numero di cellule di partenza della coltura. $\\rho$ indica la densità di probabilità, $\\gamma_{ini}$ rappresenta semplicemente il valore assegnato al parametro $\\gamma$ - il valore corretto deve poi essere stimato con il metodo della massima verosimiglianza. Il vettore tempo contiene gli istanti di tempo a cui si misura la crescita della colonia di cellule."
   ]
  },
  {
   "cell_type": "code",
   "execution_count": 2,
   "metadata": {},
   "outputs": [],
   "source": [
    "# parametri\n",
    "N=2000    \n",
    "rho0=np.zeros(N)\n",
    "rho0[1]=1.\n",
    "time=np.array([0.,8.,10.])\n",
    "Gamma2_initial=0.55"
   ]
  },
  {
   "cell_type": "code",
   "execution_count": 4,
   "metadata": {},
   "outputs": [],
   "source": [
    "#leggiamo i dati\n",
    "day8size=np.genfromtxt(\"../data/Cancer-day8size.dat\",dtype='i4')\n",
    "day10size=np.genfromtxt(\"../data/Cancer-day10size.dat\",dtype='i4')    "
   ]
  },
  {
   "cell_type": "code",
   "execution_count": 5,
   "metadata": {},
   "outputs": [
    {
     "name": "stdout",
     "output_type": "stream",
     "text": [
      "[  1   1   1 ... 798 866 895]\n",
      "[   1    1    1 ... 1512 1519 1994]\n"
     ]
    }
   ],
   "source": [
    "print(day8size)\n",
    "print(day10size)"
   ]
  },
  {
   "cell_type": "code",
   "execution_count": 6,
   "metadata": {},
   "outputs": [
    {
     "name": "stdout",
     "output_type": "stream",
     "text": [
      "2347\n",
      "1058\n"
     ]
    }
   ],
   "source": [
    "print(len(day8size))\n",
    "print(len(day10size))"
   ]
  },
  {
   "cell_type": "markdown",
   "metadata": {},
   "source": [
    "I dati sono immagazzinati sotto forma di vettore, i due vettori hanno lunghezze diverse perchè alcune delle colonie sono morte negli ultimi due giorni. A questo punto concateno i due vettori in un unico vettore."
   ]
  },
  {
   "cell_type": "code",
   "execution_count": 8,
   "metadata": {},
   "outputs": [],
   "source": [
    "# inseriamo tutti i dati in un unico vettore \n",
    "data=np.concatenate((day8size,day10size)) "
   ]
  },
  {
   "cell_type": "markdown",
   "metadata": {},
   "source": [
    "Creo una funzione che calcoli la distribuzione di probabilità $\\rho$ secondo il modello inizialmente previsto. Il modello di Yule prevede che la distribuzione al tempo $t$ sia data da  \n",
    "\n",
    "$$P(S|t, \\gamma)=e^{-\\gamma t} (1-e^{-\\gamma t})^{S-1}$$\n",
    "\n",
    "Dato che sto analizzando il numero di cellule per coltura in due istanti, mi faccio restituire dalla funzione due densità di probabilità.\n",
    "Nello specifico questa funzione mi generà delle distribuzioni di probabilità diverse a seconda del valore $S$ (all'interno del codice indicato con n o $N[i]$) presenti inizialmente.\n",
    "\n",
    "L'output di questa funzione sono quindi due vettori (ciascuno di lunghezza 2000) che per numeri di cellule iniziali diverse (questo numero varia da 0 a 2000) mi restituisce il numero di cellule dopo 8 o 10 giorni."
   ]
  },
  {
   "cell_type": "code",
   "execution_count": 17,
   "metadata": {},
   "outputs": [],
   "source": [
    "# definiamo la p(S|t,gamma) per t=8 (rho8) e t=10 (rho10)\n",
    "def rhos(Gamma2):\n",
    "    \n",
    "    rho8=np.zeros(N)\n",
    "    e8=np.exp(-Gamma2*8.)\n",
    "\n",
    "    rho10=np.zeros(N)\n",
    "    e10=np.exp(-Gamma2*10.)\n",
    "\n",
    "    for n in range(0,N):\n",
    "        rho8[n]=e8*(1-e8)**(n-1)\n",
    "        rho10[n]=e10*(1-e10)**(n-1)\n",
    "    \n",
    "    rho8[0]=0.\n",
    "    rho10[0]=0.\n",
    "    \n",
    "    return rho8,rho10"
   ]
  },
  {
   "cell_type": "markdown",
   "metadata": {},
   "source": [
    "A questo punto definisco la funzione di verosimiglianza come sommatoria (quindi come somma all'interno di cicli for) secondo la definizione data inizialmente e riportata nel seguito: $$ L = \\sum_i \\log p(x_i|\\lambda) $$"
   ]
  },
  {
   "cell_type": "code",
   "execution_count": 18,
   "metadata": {},
   "outputs": [],
   "source": [
    "# funzione che calcola la Likelihood (con il segno meno)\n",
    "def likelihood(Gamma2):\n",
    "    \n",
    "    rho8,rho10=rhos(Gamma2)\n",
    "    likelihood=0.\n",
    "    \n",
    "    for i in range(len(day8size)):\n",
    "        likelihood+=-np.log(rho8[day8size[i]])\n",
    "        \n",
    "    for i in  range(len(day10size)):\n",
    "        likelihood+=-np.log(rho10[day10size[i]])\n",
    "        \n",
    "    return likelihood"
   ]
  },
  {
   "cell_type": "markdown",
   "metadata": {},
   "source": [
    "A questo punto, secondo quanto rpevisto dal metodo di massima verosimiglianza massimizzo la funzione."
   ]
  },
  {
   "cell_type": "code",
   "execution_count": 19,
   "metadata": {},
   "outputs": [
    {
     "name": "stdout",
     "output_type": "stream",
     "text": [
      "0.5554592325618335 19693.229458242487\n"
     ]
    }
   ],
   "source": [
    "#troviamo il massimo della Likelihood (calcoliamo il minimo di -L)\n",
    "bestfit=scipy.optimize.brent(likelihood,brack=(0.4,Gamma2_initial,0.7))\n",
    "#argomento di optimize.brent sono la funzione da ottimizzare e poi alcune informazioni aggiuntive come il range da\n",
    "#eplorare, in questo caso in particolare va da 0.4 a 0.7 controllando anche il valore inizialmente assegnato a gamma\n",
    "\n",
    "Gamma2_best=bestfit\n",
    "print(Gamma2_best,likelihood(Gamma2_best))\n",
    "rho8,rho10=rhos(Gamma2_best) #qui definisco due parametri che sono i parametri con il valore migliore"
   ]
  },
  {
   "cell_type": "markdown",
   "metadata": {},
   "source": [
    "Confrontiamo il fit con i dati considerando la distribuzione cumulata.\n",
    "Per confrontare fit e dati la soluzione più comoda è quella di confrontare le due distribuzioni cumulate."
   ]
  },
  {
   "cell_type": "code",
   "execution_count": 20,
   "metadata": {},
   "outputs": [],
   "source": [
    "rho8cum=np.cumsum(rho8)\n",
    "rho10cum=np.cumsum(rho10)"
   ]
  },
  {
   "cell_type": "code",
   "execution_count": 21,
   "metadata": {},
   "outputs": [
    {
     "data": {
      "image/png": "[encoded data removed]",
      "text/plain": [
       "<Figure size 432x288 with 1 Axes>"
      ]
     },
     "metadata": {
      "needs_background": "light"
     },
     "output_type": "display_data"
    }
   ],
   "source": [
    "# usiamo caratteri leggibili!\n",
    "plt.rcParams.update({'font.size': 18})\n",
    "plt.hist(day8size, cumulative=True, density=True, bins=50,\n",
    "        label=\"8 days\")\n",
    "plt.hist(day10size, cumulative=True, density=True, bins=50,\n",
    "        label=\"10 days\")\n",
    "#plt.step(y8,idx8, label=\"8 days\", color=\"yellow\") # dati sperimentali 8gg\n",
    "#plt.step(y10,idx10, label=\"10 days\", color=\"red\") # dati sperimentali 8gg\n",
    "plt.plot(rho8cum, color=\"black\", label=\"theory\")\n",
    "plt.plot(rho10cum, color=\"black\")\n",
    "plt.xlabel('Colony size')\n",
    "plt.ylabel('Cumulative Frequency')\n",
    "plt.legend()\n",
    "plt.show()\n"
   ]
  },
  {
   "cell_type": "markdown",
   "metadata": {},
   "source": [
    "Facciamo anche il grafico della pdf"
   ]
  },
  {
   "cell_type": "code",
   "execution_count": 22,
   "metadata": {},
   "outputs": [
    {
     "data": {
      "image/png": "[encoded data removed]",
      "text/plain": [
       "<Figure size 432x288 with 1 Axes>"
      ]
     },
     "metadata": {
      "needs_background": "light"
     },
     "output_type": "display_data"
    }
   ],
   "source": [
    "# usiamo caratteri leggibili!\n",
    "plt.rcParams.update({'font.size': 18})\n",
    "plt.hist(day8size, density=True, bins=50,\n",
    "        label=\"8 days\")\n",
    "plt.hist(day10size, density=True, bins=50,\n",
    "        label=\"10 days\")\n",
    "#plt.step(y8,idx8, label=\"8 days\", color=\"yellow\") # dati sperimentali 8gg\n",
    "#plt.step(y10,idx10, label=\"10 days\", color=\"red\") # dati sperimentali 8gg\n",
    "plt.plot(rho8, color=\"black\", label=\"theory\")\n",
    "plt.plot(rho10, color=\"black\")\n",
    "plt.xlabel('Colony size')\n",
    "plt.ylabel('Cumulative Frequency')\n",
    "plt.legend()\n",
    "plt.show()"
   ]
  },
  {
   "cell_type": "markdown",
   "metadata": {},
   "source": [
    "### Esercizio: Birth and death process \n",
    "\n",
    "Ripetere il calcolo precedente nel caso di un modello che consideri anche il rate di morte $\\beta$  per le cellule. In questo modello (noto come birth and death process), la probabilità di trovare al tempo $t$ una colonia di dimensione $S$ è data da \n",
    "\n",
    "$$P(S|t, \\gamma)=\\langle s(t) \\rangle \n",
    "\\left( \\frac{\\gamma-\\beta}{\\gamma\\langle \n",
    "s(t) \\rangle -\\beta}\\right)^2\\left( 1- \\frac{\\gamma-\\beta}{\\gamma\\langle \n",
    "s(t) \\rangle -\\beta}\\right)^{S-1}$$\n",
    "\n"
   ]
  },
  {
   "cell_type": "markdown",
   "metadata": {},
   "source": [
    "dove\n",
    "\n",
    "$$\\langle s(t) \\rangle= e^{(\\gamma-\\beta)t}$$\n",
    "\n",
    "Stimare $\\gamma$ e $\\beta$ e confrontare il risultato con i dati sperimentali facendo un grafico delle distribuzioni cumulate."
   ]
  },
  {
   "cell_type": "markdown",
   "metadata": {},
   "source": [
    "**Suggerimento:** per minimizzare una funzione a molti parametri potete usare scipy.optimize.fmin invece di scipy.optimize.brent\n",
    "vedi:\n",
    "https://docs.scipy.org/doc/scipy/reference/generated/scipy.optimize.fmin.html\n",
    "        "
   ]
  },
  {
   "cell_type": "markdown",
   "metadata": {},
   "source": [
    "**Svolgimento**"
   ]
  },
  {
   "cell_type": "markdown",
   "metadata": {},
   "source": [
    "Per prima cosa riscrivo per esteso la distribuzione di probabilità\n",
    "$$P(S|t, \\gamma)=e^{(\\gamma-\\beta)t}\n",
    "\\left( \\frac{\\gamma-\\beta}{\\gamma e^{(\\gamma-\\beta)t} -\\beta}\\right)^2\\left( 1- \\frac{\\gamma-\\beta}{\\gamma e^{(\\gamma-\\beta)t} -\\beta}\\right)^{S-1}$$"
   ]
  },
  {
   "cell_type": "markdown",
   "metadata": {},
   "source": [
    "Non ho bisogno di ricaricare i dati perchè sono gli stessi che ho caricato prima, quello che devo fare è ridefinire la funzione con cui calcolo la densità di probabilità e poi implementare una ottimizzazione su più parametri.\n",
    "\n",
    "Dato che per l'ottimizzazione è più semplice avere una funzione con un unuico argomento vettoriale piuttosto che una funzione con più variabili scalari ridefinisco la funzione in modo tale che prenda come argomento una unica variabile vettoriale che ha per componenti le variabili scalari."
   ]
  },
  {
   "cell_type": "code",
   "execution_count": 23,
   "metadata": {},
   "outputs": [],
   "source": [
    "# definiamo la p(S|t,gamma) per t=8 (rho8) e t=10 (rho10)\n",
    "def rhos(Gamma2,Beta):\n",
    "     \n",
    "    e8=np.exp(Gamma2-Beta)*8.\n",
    "    prima8 = ((Gamma2-Beta)/(Gamma2*e8 - Beta))**2\n",
    "    seconda8 = np.zeros(N)\n",
    "    rho8 = np.zeros(N)\n",
    "    \n",
    "    e10=np.exp(Gamma2-Beta)*10.\n",
    "    prima10 = ((Gamma2-Beta)/(Gamma2*e10 - Beta))**2\n",
    "    seconda10=np.zeros(N)\n",
    "    rho10=np.zeros(N)\n",
    "    \n",
    "    for n in range(0,N):\n",
    "        seconda8[n] = (1-prima8)**(n-1)\n",
    "        rho8[n] = e8*prima8*seconda8\n",
    "        seconda10[n] = (1-prima10)**(n-1)\n",
    "        rho10[n] = e10*prima10*seconda10\n",
    "    \n",
    "    rho8[0]=0.\n",
    "    rho10[0]=0.\n",
    "    #questa condizione mi assicura che se parto da 0 cellelule non avverrà mai di trovare delle cellule all'interno di questa colonia\n",
    "    \n",
    "    return rho8,rho10"
   ]
  },
  {
   "cell_type": "markdown",
   "metadata": {},
   "source": [
    "Devo ridefinire anche la funzione di verosimiglianza perchè devo renderla funzione di due variabili, non più solo di una, perchè la distribuzione di probabilità stessa è funzione di due variabili."
   ]
  },
  {
   "cell_type": "code",
   "execution_count": 24,
   "metadata": {},
   "outputs": [],
   "source": [
    "def likelihood(x):\n",
    "    \n",
    "    x[0] = Gamma2\n",
    "    x[1] = Beta\n",
    "    \n",
    "    rho8,rho10=rhos(Gamma2,Beta)\n",
    "    likelihood=0.\n",
    "    \n",
    "    for i in range(len(day8size)):\n",
    "        likelihood+=-np.log(rho8[day8size[i]])\n",
    "        \n",
    "    for i in  range(len(day10size)):\n",
    "        likelihood+=-np.log(rho10[day10size[i]])\n",
    "        \n",
    "    return likelihood"
   ]
  },
  {
   "cell_type": "code",
   "execution_count": null,
   "metadata": {},
   "outputs": [],
   "source": [
    "#troviamo il massimo della Likelihood (calcoliamo il minimo di -L)\n",
    "bestfit=scipy.optimize.brent(likelihood,brack=(0.4,Gamma2_initial,0.7))\n",
    "#argomento di optimize.brent sono la funzione da ottimizzare e poi alcune informazioni aggiuntive come il range da\n",
    "#eplorare, in questo caso in particolare va da 0.4 a 0.7 controllando anche il valore inizialmente assegnato a gamma\n",
    "\n"
   ]
  },
  {
   "cell_type": "code",
   "execution_count": null,
   "metadata": {},
   "outputs": [],
   "source": [
    "Gamma2_best=bestfit\n",
    "print(Gamma2_best,likelihood(Gamma2_best))\n",
    "rho8,rho10=rhos(Gamma2_best) #qui definisco due parametri che sono i parametri con il valore migliore"
   ]
  }
 ],
 "metadata": {
  "kernelspec": {
   "display_name": "Python 3 (ipykernel)",
   "language": "python",
   "name": "python3"
  },
  "language_info": {
   "codemirror_mode": {
    "name": "ipython",
    "version": 3
   },
   "file_extension": ".py",
   "mimetype": "text/x-python",
   "name": "python",
   "nbconvert_exporter": "python",
   "pygments_lexer": "ipython3",
   "version": "3.10.6"
  }
 },
 "nbformat": 4,
 "nbformat_minor": 4
}
