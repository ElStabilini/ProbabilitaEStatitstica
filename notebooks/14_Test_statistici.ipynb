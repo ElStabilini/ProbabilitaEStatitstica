{
 "cells": [
  {
   "cell_type": "markdown",
   "metadata": {},
   "source": [
    "# Corso di Probabilità e Statistica- Test statistici\n",
    "\n",
    "In questo capitolo, faremo alcuni esempi di test statistici."
   ]
  },
  {
   "cell_type": "code",
   "execution_count": 1,
   "metadata": {},
   "outputs": [],
   "source": [
    "%matplotlib inline\n",
    "import pandas as pd\n",
    "import numpy as np\n",
    "import scipy.stats \n",
    "import seaborn as sns\n",
    "import matplotlib.pylab as plt"
   ]
  },
  {
   "cell_type": "markdown",
   "metadata": {},
   "source": [
    "### Esempio: fratture \n",
    "Consideriamo di nuovo l'esempio della frattura della ceramica studiata nel capitolo 12"
   ]
  },
  {
   "cell_type": "code",
   "execution_count": 2,
   "metadata": {},
   "outputs": [],
   "source": [
    "#carichiamo il file\n",
    "strength = pd.read_csv(\"../data/Strength_ceramic.dat\",\n",
    "                       sep=\"\\s+\",skiprows=48)\n",
    "strength=strength.drop([0])"
   ]
  },
  {
   "cell_type": "markdown",
   "metadata": {},
   "source": [
    "Ricordiamo le molte variabili presenti nel file. \n",
    "Vogliamo vedere quali di questi fattori hanno un impatto significativo sul carico di rottura Y"
   ]
  },
  {
   "cell_type": "code",
   "execution_count": 3,
   "metadata": {},
   "outputs": [
    {
     "data": {
      "text/plain": [
       "['This is Dataplot data file     JAHANMI2.DAT\\n',\n",
       " 'Effect of Machining Factors on Strength of Ceramics\\n',\n",
       " '(Longitudinal Data Only)\\n',\n",
       " 'Response variable                  = ceramic strength\\n',\n",
       " 'Number of observations             =  480\\n',\n",
       " 'Number of variables per line image =   15\\n',\n",
       " 'Order of variables on a line image--\\n',\n",
       " '   1. Factor  1 = Observation Id (1 to 960)\\n',\n",
       " '   2. Factor  2 = Lab (8 levels: 1 to 8)\\n',\n",
       " '   3. Factor  3 = Bar id within lab (1 to 30)\\n',\n",
       " '   4. Factor  4 = Set xxx (4 levels: 1 to 4)\\n',\n",
       " '   5. Response Variable Y = Strength of Ceramic\\n',\n",
       " '   6. Factor  5 = Table Speed    (2 levels: slow and fast)\\n',\n",
       " '   7. Factor  6 = Down Feed Rate (2 levels: slow & fast)\\n',\n",
       " '   8. Factor  7 = Wheel Grit     (2 levels:     )\\n',\n",
       " '   9. Factor  8 = Direction      (1 level : longitudinal only)\\n',\n",
       " '  10. Factor  9 = Treatment      (2**4 = 16 levels: 1 to 16)\\n',\n",
       " '  11. Factor 10 = Set of 15 within lab (2 levels: 1 and 2)\\n',\n",
       " '  12. Factor 11 = Rep (2 levels: 1 and 2)\\n',\n",
       " '  13. Factor 12 = Coded Lab (for SAS plotting purposes)\\n',\n",
       " '  14. Factor 13 = Bar Batch (2 levels: 1 and 2)\\n',\n",
       " '  15. Factor 14 = ..\\n',\n",
       " '  16. Factor 15 = distinct set of 15 reps (32 levels: 1 to 32)\\n',\n",
       " 'To read this file into Dataplot--\\n']"
      ]
     },
     "execution_count": 3,
     "metadata": {},
     "output_type": "execute_result"
    }
   ],
   "source": [
    "with open(\"../data/Strength_ceramic.dat\") as myfile:\n",
    "    head = [next(myfile) for x in range(24)]\n",
    "head\n"
   ]
  },
  {
   "cell_type": "code",
   "execution_count": 17,
   "metadata": {},
   "outputs": [
    {
     "name": "stdout",
     "output_type": "stream",
     "text": [
      "      Id  Lab   Num  Test        Y   X1   X2   X3   X4  Trt  Set  Llab  Rep  \\\n",
      "1      1  1.0   1.0   1.0  608.781 -1.0 -1.0 -1.0 -1.0  1.0  1.0  0.75  1.0   \n",
      "2      2  1.0   2.0   1.0  569.670 -1.0 -1.0 -1.0 -1.0  1.0  1.0  0.75  1.0   \n",
      "3      3  1.0   3.0   1.0  689.556 -1.0 -1.0 -1.0 -1.0  1.0  1.0  0.75  1.0   \n",
      "4      4  1.0   4.0   1.0  747.541 -1.0 -1.0 -1.0 -1.0  1.0  1.0  0.75  1.0   \n",
      "5      5  1.0   5.0   1.0  618.134 -1.0 -1.0 -1.0 -1.0  1.0  1.0  0.75  1.0   \n",
      "..   ...  ...   ...   ...      ...  ...  ...  ...  ...  ...  ...   ...  ...   \n",
      "476  956  8.0  26.0   4.0  698.254  1.0 -1.0 -1.0 -1.0  2.0  2.0  8.25  2.0   \n",
      "477  957  8.0  27.0   4.0  611.999  1.0 -1.0 -1.0 -1.0  2.0  2.0  8.25  2.0   \n",
      "478  958  8.0  28.0   4.0  748.130  1.0 -1.0 -1.0 -1.0  2.0  2.0  8.25  2.0   \n",
      "479  959  8.0  29.0   4.0  530.680  1.0 -1.0 -1.0 -1.0  2.0  2.0  8.25  2.0   \n",
      "480  960  8.0  30.0   4.0  689.942  1.0 -1.0 -1.0 -1.0  2.0  2.0  8.25  2.0   \n",
      "\n",
      "     Bat  Sblab  Set2  \n",
      "1    1.0   0.50   1.0  \n",
      "2    2.0   0.75   1.0  \n",
      "3    1.0   0.50   1.0  \n",
      "4    2.0   0.75   1.0  \n",
      "5    1.0   0.50   1.0  \n",
      "..   ...    ...   ...  \n",
      "476  2.0   8.50  32.0  \n",
      "477  1.0   8.25  32.0  \n",
      "478  2.0   8.50  32.0  \n",
      "479  1.0   8.25  32.0  \n",
      "480  2.0   8.50  32.0  \n",
      "\n",
      "[480 rows x 16 columns]\n"
     ]
    }
   ],
   "source": [
    "print(strength)"
   ]
  },
  {
   "cell_type": "markdown",
   "metadata": {},
   "source": [
    "Controlliamo ad esempio il fattore X1 (Table speed).\n",
    "Per questo separiamo il database in due set e confrontiamoli                     "
   ]
  },
  {
   "cell_type": "code",
   "execution_count": 4,
   "metadata": {},
   "outputs": [],
   "source": [
    "set1=strength[strength[\"X1\"]==1.0].Y\n",
    "set2=strength[strength[\"X1\"]==-1.0].Y"
   ]
  },
  {
   "cell_type": "markdown",
   "metadata": {},
   "source": [
    "Calcoliamo medie e varianze"
   ]
  },
  {
   "cell_type": "code",
   "execution_count": 5,
   "metadata": {},
   "outputs": [
    {
     "data": {
      "text/plain": [
       "(642.6228083333333, 657.5318083333331)"
      ]
     },
     "execution_count": 5,
     "metadata": {},
     "output_type": "execute_result"
    }
   ],
   "source": [
    "set1.mean(),set2.mean()"
   ]
  },
  {
   "cell_type": "code",
   "execution_count": 6,
   "metadata": {},
   "outputs": [
    {
     "data": {
      "text/plain": [
       "(72.83971637319247, 75.81437839394435)"
      ]
     },
     "execution_count": 6,
     "metadata": {},
     "output_type": "execute_result"
    }
   ],
   "source": [
    "set1.std(),set2.std()"
   ]
  },
  {
   "cell_type": "markdown",
   "metadata": {},
   "source": [
    "Usiamo il t-test per testare l'ipotesi: I due set hanno la stessa media?\n",
    "\n",
    "https://docs.scipy.org/doc/scipy/reference/generated/scipy.stats.ttest_ind.html\n",
    "\n",
    "Dato un livello di significatività, che scegliamo ad esempio $\\alpha=0.01$, se il test fornisce $p<\\alpha$ possiamo rigettare l'ipotesi nulla che i due set abbiano la stessa media."
   ]
  },
  {
   "cell_type": "code",
   "execution_count": 7,
   "metadata": {},
   "outputs": [
    {
     "data": {
      "text/plain": [
       "Ttest_indResult(statistic=-2.196874880001813, pvalue=0.02850866118896449)"
      ]
     },
     "execution_count": 7,
     "metadata": {},
     "output_type": "execute_result"
    }
   ],
   "source": [
    "scipy.stats.ttest_ind(set1,set2)"
   ]
  },
  {
   "cell_type": "markdown",
   "metadata": {},
   "source": [
    "Interpretazione: $p > \\alpha$ e quindi non possiamo rigettare l'ipotesi che i due set abbiano la stessa media. Il che non vuol dire che abbiamo dimostrato che la media sia la stessa...\n",
    "\n",
    "Il T-test assume che le distribuzioni siano Gaussiane e con la stessa varianza. Controlliamo quindi gli istogrammi"
   ]
  },
  {
   "cell_type": "code",
   "execution_count": 8,
   "metadata": {},
   "outputs": [
    {
     "data": {
      "text/plain": [
       "<matplotlib.legend.Legend at 0x7f896612feb0>"
      ]
     },
     "execution_count": 8,
     "metadata": {},
     "output_type": "execute_result"
    },
    {
     "data": {
      "image/png": "[encoded data removed]",
      "text/plain": [
       "<Figure size 432x288 with 1 Axes>"
      ]
     },
     "metadata": {
      "needs_background": "light"
     },
     "output_type": "display_data"
    }
   ],
   "source": [
    "plt.hist(set1, bins=50, density=True, \n",
    "         histtype=\"step\", label=\"Set 1\" )\n",
    "plt.hist(set2, bins=50, density=True, \n",
    "         histtype=\"step\", label=\"Set 2\")\n",
    "plt.xlabel(\"X\")\n",
    "plt.ylabel(\"P(X)\")\n",
    "plt.legend()"
   ]
  },
  {
   "cell_type": "markdown",
   "metadata": {},
   "source": [
    "Visto che la distribuzione non è Gaussiana utilizziamo invece  il test di Kolmogorov Smirnov.\n",
    "https://docs.scipy.org/doc/scipy/reference/generated/scipy.stats.ks_2samp.html\n",
    "\n",
    "Per prima cosa guardiamo le distribuzioni cumulate."
   ]
  },
  {
   "cell_type": "code",
   "execution_count": 9,
   "metadata": {},
   "outputs": [
    {
     "data": {
      "text/plain": [
       "[<matplotlib.lines.Line2D at 0x7f895de78790>]"
      ]
     },
     "execution_count": 9,
     "metadata": {},
     "output_type": "execute_result"
    },
    {
     "data": {
      "image/png": "[encoded data removed]",
      "text/plain": [
       "<Figure size 432x288 with 1 Axes>"
      ]
     },
     "metadata": {
      "needs_background": "light"
     },
     "output_type": "display_data"
    }
   ],
   "source": [
    "xmin=np.min(strength.Y)\n",
    "xmax=np.max(strength.Y)\n",
    "x = np.linspace(xmin,xmax,101)\n",
    "y1=np.sort(set1)\n",
    "idx1 = [ i/len(y1) for i in range(len(y1))]\n",
    "y2=np.sort(set2)\n",
    "idx2 = [ i/len(y2) for i in range(len(y2))]\n",
    "plt.xlabel('Y')\n",
    "plt.ylabel('Cumulative Frequency')\n",
    "plt.plot(y1,idx1,label=\"Set 1\")\n",
    "plt.plot(y2,idx2,label=\"Set 2\")\n"
   ]
  },
  {
   "cell_type": "code",
   "execution_count": 10,
   "metadata": {},
   "outputs": [
    {
     "data": {
      "text/plain": [
       "(0.13333333333333333, 0.027951112440957247)"
      ]
     },
     "execution_count": 10,
     "metadata": {},
     "output_type": "execute_result"
    }
   ],
   "source": [
    "D,p_value=scipy.stats.ks_2samp(set1,set2)\n",
    "D,p_value"
   ]
  },
  {
   "cell_type": "markdown",
   "metadata": {},
   "source": [
    "Il test KS conferma il risultato del T-test. Il fattore X1 non ha un effetto significativo sul risultato."
   ]
  },
  {
   "cell_type": "markdown",
   "metadata": {},
   "source": [
    "**Esercizio** Eseguire il test di KS per tutti i possibili fattori e identificare i fattori significativi."
   ]
  },
  {
   "cell_type": "markdown",
   "metadata": {},
   "source": [
    "**Svolgimento:** Per lo svolgimento dell'esercizio, dato che già conosco quali sono i parametri che influscono di più e quali sono i parametri che influiscono di meno, recupero i dati dall'esercizio precedente.\n",
    "\n",
    "In particolare so che il dato che influisce più di tutti è quello del batch quindi studio i due dataset che differiscono per il batch. Utilizzo lo stesso p-value visto prima."
   ]
  },
  {
   "cell_type": "code",
   "execution_count": 18,
   "metadata": {},
   "outputs": [],
   "source": [
    "set1=strength[strength[\"Bat\"]==1.0].Y\n",
    "set2=strength[strength[\"Bat\"]==2.0].Y"
   ]
  },
  {
   "cell_type": "code",
   "execution_count": 19,
   "metadata": {},
   "outputs": [
    {
     "data": {
      "text/plain": [
       "(688.9986416666667, 611.155975)"
      ]
     },
     "execution_count": 19,
     "metadata": {},
     "output_type": "execute_result"
    }
   ],
   "source": [
    "set1.mean(),set2.mean()"
   ]
  },
  {
   "cell_type": "code",
   "execution_count": 20,
   "metadata": {},
   "outputs": [
    {
     "data": {
      "text/plain": [
       "(65.54909026548398, 61.85424852757898)"
      ]
     },
     "execution_count": 20,
     "metadata": {},
     "output_type": "execute_result"
    }
   ],
   "source": [
    "set1.std(), set2.std()"
   ]
  },
  {
   "cell_type": "code",
   "execution_count": 21,
   "metadata": {},
   "outputs": [
    {
     "data": {
      "text/plain": [
       "Ttest_indResult(statistic=13.380580525978077, pvalue=6.618687049417706e-35)"
      ]
     },
     "execution_count": 21,
     "metadata": {},
     "output_type": "execute_result"
    }
   ],
   "source": [
    "scipy.stats.ttest_ind(set1,set2)"
   ]
  },
  {
   "cell_type": "code",
   "execution_count": 22,
   "metadata": {},
   "outputs": [
    {
     "data": {
      "text/plain": [
       "<matplotlib.legend.Legend at 0x7f895de7b160>"
      ]
     },
     "execution_count": 22,
     "metadata": {},
     "output_type": "execute_result"
    },
    {
     "data": {
      "image/png": "[encoded data removed]",
      "text/plain": [
       "<Figure size 432x288 with 1 Axes>"
      ]
     },
     "metadata": {
      "needs_background": "light"
     },
     "output_type": "display_data"
    }
   ],
   "source": [
    "plt.hist(set1, bins=50, density=True, \n",
    "         histtype=\"step\", label=\"Set 1\" )\n",
    "plt.hist(set2, bins=50, density=True, \n",
    "         histtype=\"step\", label=\"Set 2\")\n",
    "plt.xlabel(\"X\")\n",
    "plt.ylabel(\"P(X)\")\n",
    "plt.legend()"
   ]
  },
  {
   "cell_type": "markdown",
   "metadata": {},
   "source": [
    "Anche in questo caso però, dato che la distribuzione non è gaussiana utilizzo il test di Kolmogrov Smirnov"
   ]
  },
  {
   "cell_type": "code",
   "execution_count": 23,
   "metadata": {},
   "outputs": [
    {
     "data": {
      "text/plain": [
       "[<matplotlib.lines.Line2D at 0x7f895dc3edd0>]"
      ]
     },
     "execution_count": 23,
     "metadata": {},
     "output_type": "execute_result"
    },
    {
     "data": {
      "image/png": "[encoded data removed]",
      "text/plain": [
       "<Figure size 432x288 with 1 Axes>"
      ]
     },
     "metadata": {
      "needs_background": "light"
     },
     "output_type": "display_data"
    }
   ],
   "source": [
    "xmin=np.min(strength.Y)\n",
    "xmax=np.max(strength.Y)\n",
    "x = np.linspace(xmin,xmax,101)\n",
    "y1=np.sort(set1)\n",
    "idx1 = [ i/len(y1) for i in range(len(y1))]\n",
    "y2=np.sort(set2)\n",
    "idx2 = [ i/len(y2) for i in range(len(y2))]\n",
    "plt.xlabel('Y')\n",
    "plt.ylabel('Cumulative Frequency')\n",
    "plt.plot(y1,idx1,label=\"Set 1\")\n",
    "plt.plot(y2,idx2,label=\"Set 2\")"
   ]
  },
  {
   "cell_type": "markdown",
   "metadata": {},
   "source": [
    "Effettivamente in questo caso si osserva una netta distinzione tra le due cumulate."
   ]
  },
  {
   "cell_type": "markdown",
   "metadata": {},
   "source": [
    "### Goodness of fit\n",
    "\n",
    "Controlliamo se il fit con MLE è \"buono\" con il test di KS\n",
    "\n"
   ]
  },
  {
   "cell_type": "code",
   "execution_count": 11,
   "metadata": {},
   "outputs": [],
   "source": [
    "# Fittiamo con Weibull\n",
    "k1, loc, x_1=scipy.stats.weibull_min.fit(set1, floc=0)\n",
    "W1=scipy.stats.weibull_min(k1,loc=0, scale=x_1) "
   ]
  },
  {
   "cell_type": "code",
   "execution_count": 12,
   "metadata": {},
   "outputs": [
    {
     "data": {
      "text/plain": [
       "<matplotlib.legend.Legend at 0x7f895de45120>"
      ]
     },
     "execution_count": 12,
     "metadata": {},
     "output_type": "execute_result"
    },
    {
     "data": {
      "image/png": "[encoded data removed]",
      "text/plain": [
       "<Figure size 432x288 with 1 Axes>"
      ]
     },
     "metadata": {
      "needs_background": "light"
     },
     "output_type": "display_data"
    }
   ],
   "source": [
    "# Facciamo un grafico di confronto\n",
    "xmin=np.min(strength.Y)\n",
    "xmax=np.max(strength.Y)\n",
    "x = np.linspace(xmin,xmax,101)\n",
    "y1=np.sort(set1)\n",
    "idx1 = [ i/len(y1) for i in range(len(y1))]\n",
    "plt.xlabel('Y')\n",
    "plt.ylabel('Cumulative Frequency')\n",
    "plt.plot(y1,idx1,label=\"Set 1\")\n",
    "plt.plot(x, W1.cdf(x), label=\"Fit\", color=\"black\")\n",
    "plt.legend()"
   ]
  },
  {
   "cell_type": "markdown",
   "metadata": {},
   "source": [
    "Controlliamo ora il test:"
   ]
  },
  {
   "cell_type": "code",
   "execution_count": 13,
   "metadata": {},
   "outputs": [
    {
     "data": {
      "text/plain": [
       "KstestResult(statistic=0.0823500092370742, pvalue=0.0728817514442458)"
      ]
     },
     "execution_count": 13,
     "metadata": {},
     "output_type": "execute_result"
    }
   ],
   "source": [
    "yy=set1.to_numpy()\n",
    "scipy.stats.kstest(yy, \n",
    "                  lambda x: \n",
    "                   scipy.stats.weibull_min.cdf\n",
    "                   (x, k1, loc=0, scale=x_1))"
   ]
  },
  {
   "cell_type": "markdown",
   "metadata": {},
   "source": [
    "Il test ci da un valore $p>\\alpha=0.01$ quindi non possiamo rifiutare l'ipotesi che i dati siano distribuiti secondo Weibull. \n",
    "\n",
    "Possiamo provare ora a ripetere l'esercizio supponendo invece che i dati siano Gaussiani"
   ]
  },
  {
   "cell_type": "code",
   "execution_count": 14,
   "metadata": {},
   "outputs": [
    {
     "data": {
      "text/plain": [
       "(642.6228083333333, 72.68780856160312)"
      ]
     },
     "execution_count": 14,
     "metadata": {},
     "output_type": "execute_result"
    }
   ],
   "source": [
    "mu_0=yy.mean()\n",
    "sigma_0=yy.std()\n",
    "mu_0,sigma_0"
   ]
  },
  {
   "cell_type": "code",
   "execution_count": 15,
   "metadata": {},
   "outputs": [
    {
     "data": {
      "text/plain": [
       "KstestResult(statistic=0.05026754500928454, pvalue=0.5617589857269987)"
      ]
     },
     "execution_count": 15,
     "metadata": {},
     "output_type": "execute_result"
    }
   ],
   "source": [
    "scipy.stats.kstest(yy, \n",
    "                  lambda x: \n",
    "                   scipy.stats.norm.cdf\n",
    "                   (x, loc=mu_0, scale=sigma_0))"
   ]
  },
  {
   "cell_type": "code",
   "execution_count": 16,
   "metadata": {},
   "outputs": [
    {
     "data": {
      "text/plain": [
       "<matplotlib.legend.Legend at 0x7f895dca9f90>"
      ]
     },
     "execution_count": 16,
     "metadata": {},
     "output_type": "execute_result"
    },
    {
     "data": {
      "image/png": "[encoded data removed]",
      "text/plain": [
       "<Figure size 432x288 with 1 Axes>"
      ]
     },
     "metadata": {
      "needs_background": "light"
     },
     "output_type": "display_data"
    }
   ],
   "source": [
    "# Facciamo un grafico di confronto\n",
    "xmin=np.min(strength.Y)\n",
    "xmax=np.max(strength.Y)\n",
    "x = np.linspace(xmin,xmax,101)\n",
    "y1=np.sort(set1)\n",
    "idx1 = [ i/len(y1) for i in range(len(y1))]\n",
    "plt.xlabel('Y')\n",
    "plt.ylabel('Cumulative Frequency')\n",
    "plt.plot(y1,idx1,label=\"Set 1\")\n",
    "plt.plot(x, scipy.stats.norm.cdf\n",
    "                   (x, loc=mu_0, scale=sigma_0), \n",
    "         label=\"Fit\", color=\"red\")\n",
    "plt.legend()"
   ]
  }
 ],
 "metadata": {
  "kernelspec": {
   "display_name": "Python 3 (ipykernel)",
   "language": "python",
   "name": "python3"
  },
  "language_info": {
   "codemirror_mode": {
    "name": "ipython",
    "version": 3
   },
   "file_extension": ".py",
   "mimetype": "text/x-python",
   "name": "python",
   "nbconvert_exporter": "python",
   "pygments_lexer": "ipython3",
   "version": "3.10.6"
  }
 },
 "nbformat": 4,
 "nbformat_minor": 4
}
